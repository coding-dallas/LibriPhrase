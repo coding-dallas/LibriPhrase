{
 "cells": [
  {
   "cell_type": "code",
   "execution_count": null,
   "metadata": {},
   "outputs": [],
   "source": [
    "from pydub import AudioSegment\n",
    "import subprocess\n",
    "\n",
    "# Specify the path to the .flac file\n",
    "flac_file_path = \"/home/kesav/Desktop/26-496-0001.flac\"\n",
    "\n",
    "# Specify the path for the converted WAV file\n",
    "wav_file_path = \"/home/kesav/Desktop/26-496-0001.wav\"\n",
    "\n",
    "# Convert .flac to .wav using FFmpeg\n",
    "subprocess.call(['ffmpeg', '-i', flac_file_path, wav_file_path])\n",
    "\n",
    "# Read the converted WAV file with PyDub\n",
    "audio_segment = AudioSegment.from_wav(wav_file_path)\n"
   ]
  },
  {
   "cell_type": "code",
   "execution_count": 1,
   "metadata": {},
   "outputs": [],
   "source": [
    "import csv\n",
    "\n",
    "# Define the column to be replaced and its new value\n",
    "column_to_replace = 'audio_filename'\n",
    "# new_value = 'new_value'\n",
    "\n",
    "# Read the CSV file and replace the column value\n",
    "with open('/home/kesav/Documents/kesav/research/code_files/LibriPhrase/metadata/librispeech_clean_train_100h_all_utt.csv', 'r') as file:\n",
    "    reader = csv.DictReader(file)\n",
    "    data = list(reader)\n",
    "    for row in data:\n",
    "        old_value=row[column_to_replace]\n",
    "        row[column_to_replace]=old_value.replace('.flac', '.wav')\n",
    "\n",
    "# Write the modified data to a new CSV file\n",
    "with open('/home/kesav/Documents/kesav/research/code_files/LibriPhrase/metadata/librispeech_clean_train_100h_all_utt_1.csv', 'w', newline='') as file:\n",
    "    writer = csv.DictWriter(file, fieldnames=reader.fieldnames)\n",
    "    writer.writeheader()\n",
    "    writer.writerows(data)\n"
   ]
  },
  {
   "cell_type": "code",
   "execution_count": null,
   "metadata": {},
   "outputs": [],
   "source": []
  }
 ],
 "metadata": {
  "kernelspec": {
   "display_name": "Python 3",
   "language": "python",
   "name": "python3"
  },
  "language_info": {
   "codemirror_mode": {
    "name": "ipython",
    "version": 3
   },
   "file_extension": ".py",
   "mimetype": "text/x-python",
   "name": "python",
   "nbconvert_exporter": "python",
   "pygments_lexer": "ipython3",
   "version": "3.9.12"
  },
  "orig_nbformat": 4
 },
 "nbformat": 4,
 "nbformat_minor": 2
}
